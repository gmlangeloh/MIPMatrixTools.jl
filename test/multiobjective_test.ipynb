{
 "cells": [
  {
   "cell_type": "code",
   "execution_count": 5,
   "metadata": {},
   "outputs": [
    {
     "name": "stdout",
     "output_type": "stream",
     "text": [
      "C = [1 8 10; 4 3 2]\n",
      "instance.C = [1.0 8.0 10.0 0.0; 4.0 3.0 2.0 0.0]\n"
     ]
    },
    {
     "data": {
      "text/plain": [
       "2×4 Matrix{Float64}:\n",
       " 1.0  8.0  10.0  0.0\n",
       " 4.0  3.0   2.0  0.0"
      ]
     },
     "metadata": {},
     "output_type": "display_data"
    }
   ],
   "source": [
    "using JuMP\n",
    "using MIPMatrixTools.IPInstances\n",
    "\n",
    "model = Model()\n",
    "C = rand(1:10, 2, 3)\n",
    "@variable(model, x[1:3] >= 0, Int)\n",
    "@objective(model, Min, C * x)\n",
    "@constraint(model, sum(x) <= 10)\n",
    "\n",
    "instance = IPInstance(model)\n",
    "@show C\n",
    "@show instance.C"
   ]
  }
 ],
 "metadata": {
  "kernelspec": {
   "display_name": "Julia 1.9.2",
   "language": "julia",
   "name": "julia-1.9"
  },
  "language_info": {
   "file_extension": ".jl",
   "mimetype": "application/julia",
   "name": "julia",
   "version": "1.9.2"
  },
  "orig_nbformat": 4
 },
 "nbformat": 4,
 "nbformat_minor": 2
}
