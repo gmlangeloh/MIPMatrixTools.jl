{
 "cells": [
  {
   "cell_type": "code",
   "execution_count": 1,
   "metadata": {},
   "outputs": [
    {
     "name": "stdout",
     "output_type": "stream",
     "text": [
      "Number of variables: 75\n",
      "Number of constraints: 45\n"
     ]
    }
   ],
   "source": [
    "using MIPMatrixTools.IPInstances\n",
    "\n",
    "include(\"./roundrobin.jl\")\n",
    "\n",
    "#Basic test: just read some small instance\n",
    "\n",
    "small_instance = read_instance(INSTANCE_DIRECTORY * \"/bin006_050_000.srr\")\n",
    "ip_model = basic_formulation(small_instance)\n",
    "ip_instance = IPInstance(ip_model)\n",
    "println(\"Number of variables: \", ip_instance.n)\n",
    "println(\"Number of constraints: \", ip_instance.m)"
   ]
  },
  {
   "cell_type": "code",
   "execution_count": 2,
   "metadata": {},
   "outputs": [
    {
     "name": "stdout",
     "output_type": "stream",
     "text": [
      "Number of variables: 18\n",
      "Number of constraints: 18\n"
     ]
    },
    {
     "name": "stdout",
     "output_type": "stream",
     "text": [
      "size(gb) = (9, 18)\n",
      "gb = "
     ]
    },
    {
     "name": "stdout",
     "output_type": "stream",
     "text": [
      "[-1 0 1 1 0 -1 0 0 0 0 0 0 1 0 -1 -1 0 1; -1 0 1 1 0 -1 1 0 -1 -1 0 1 0 0 0 0 0 0; -1 1 0 0 1 -1 0 0 0 0 0 0 1 -1 0 0 -1 1; -1 1 0 0 1 -1 1 -1 0 0 -1 1 0 0 0 0 0 0; 0 -1 1 1 -1 0 0 0 0 0 0 0 0 1 -1 -1 1 0; 0 -1 1 1 -1 0 0 1 -1 -1 1 0 0 0 0 0 0 0; 0 0 0 0 0 0 -1 0 1 1 0 -1 1 0 -1 -1 0 1; 0 0 0 0 0 0 -1 1 0 0 1 -1 1 -1 0 0 -1 1; 0 0 0 0 0 0 0 -1 1 1 -1 0 0 1 -1 -1 1 0]\n"
     ]
    },
    {
     "data": {
      "text/plain": [
       "9×18 Matrix{Int64}:\n",
       " -1   0  1  1   0  -1   0   0   0   0   0   0  1   0  -1  -1   0  1\n",
       " -1   0  1  1   0  -1   1   0  -1  -1   0   1  0   0   0   0   0  0\n",
       " -1   1  0  0   1  -1   0   0   0   0   0   0  1  -1   0   0  -1  1\n",
       " -1   1  0  0   1  -1   1  -1   0   0  -1   1  0   0   0   0   0  0\n",
       "  0  -1  1  1  -1   0   0   0   0   0   0   0  0   1  -1  -1   1  0\n",
       "  0  -1  1  1  -1   0   0   1  -1  -1   1   0  0   0   0   0   0  0\n",
       "  0   0  0  0   0   0  -1   0   1   1   0  -1  1   0  -1  -1   0  1\n",
       "  0   0  0  0   0   0  -1   1   0   0   1  -1  1  -1   0   0  -1  1\n",
       "  0   0  0  0   0   0   0  -1   1   1  -1   0  0   1  -1  -1   1  0"
      ]
     },
     "metadata": {},
     "output_type": "display_data"
    }
   ],
   "source": [
    "# Now, check what happens when we run 4ti2 over a very small instance\n",
    "very_small_instance = read_instance(INSTANCE_DIRECTORY * \"/bin004.srr\")\n",
    "very_small_ip_model = basic_formulation(very_small_instance)\n",
    "very_small_ip_instance = IPInstance(very_small_ip_model)\n",
    "println(\"Number of variables: \", very_small_ip_instance.n)\n",
    "println(\"Number of constraints: \", very_small_ip_instance.m)\n",
    "\n",
    "using IPGBs.FourTi2\n",
    "\n",
    "#Find initial solution and check that it is feasible\n",
    "solution = linearize_solution(initial_solution(very_small_instance), very_small_instance)\n",
    "@assert all(very_small_ip_instance.A * solution .== very_small_ip_instance.b)\n",
    "#Compute the GB for this very small instance\n",
    "gb = groebner(very_small_ip_instance)\n",
    "@show size(gb)\n",
    "@show gb"
   ]
  },
  {
   "cell_type": "code",
   "execution_count": null,
   "metadata": {},
   "outputs": [],
   "source": [
    "gb = groebner(ip_instance)\n",
    "@show size(gb)"
   ]
  }
 ],
 "metadata": {
  "kernelspec": {
   "display_name": "Julia 1.9.2",
   "language": "julia",
   "name": "julia-1.9"
  },
  "language_info": {
   "file_extension": ".jl",
   "mimetype": "application/julia",
   "name": "julia",
   "version": "1.9.2"
  },
  "orig_nbformat": 4
 },
 "nbformat": 4,
 "nbformat_minor": 2
}
