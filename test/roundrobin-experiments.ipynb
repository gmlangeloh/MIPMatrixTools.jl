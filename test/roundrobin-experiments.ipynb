{
 "cells": [
  {
   "cell_type": "code",
   "execution_count": 15,
   "metadata": {},
   "outputs": [
    {
     "name": "stdout",
     "output_type": "stream",
     "text": [
      "Number of variables: 75\n",
      "Number of constraints: 45\n"
     ]
    }
   ],
   "source": [
    "using MIPMatrixTools.IPInstances\n",
    "\n",
    "include(\"./roundrobin.jl\")\n",
    "\n",
    "small_instance = read_instance(INSTANCE_DIRECTORY * \"/bin006_050_000.srr\")\n",
    "ip_model = basic_formulation(small_instance)\n",
    "ip_instance = IPInstance(ip_model)\n",
    "println(\"Number of variables: \", ip_instance.n)\n",
    "println(\"Number of constraints: \", ip_instance.m)"
   ]
  }
 ],
 "metadata": {
  "kernelspec": {
   "display_name": "Julia 1.9.2",
   "language": "julia",
   "name": "julia-1.9"
  },
  "language_info": {
   "file_extension": ".jl",
   "mimetype": "application/julia",
   "name": "julia",
   "version": "1.9.2"
  },
  "orig_nbformat": 4
 },
 "nbformat": 4,
 "nbformat_minor": 2
}
