{
 "cells": [
  {
   "cell_type": "code",
   "execution_count": 29,
   "metadata": {},
   "outputs": [
    {
     "name": "stdout",
     "output_type": "stream",
     "text": [
      "Number of variables: 75\n",
      "Number of constraints: 45\n"
     ]
    }
   ],
   "source": [
    "using MIPMatrixTools.IPInstances\n",
    "\n",
    "include(\"./roundrobin.jl\")\n",
    "\n",
    "#Basic test: just read some small instance\n",
    "\n",
    "small_instance = read_instance(INSTANCE_DIRECTORY * \"/bin006_050_000.srr\")\n",
    "ip_model = basic_formulation(small_instance)\n",
    "ip_instance = IPInstance(ip_model)\n",
    "println(\"Number of variables: \", ip_instance.n)\n",
    "println(\"Number of constraints: \", ip_instance.m)"
   ]
  },
  {
   "cell_type": "code",
   "execution_count": 33,
   "metadata": {},
   "outputs": [
    {
     "name": "stdout",
     "output_type": "stream",
     "text": [
      "Number of variables: 18\n",
      "Number of constraints: 18\n"
     ]
    },
    {
     "ename": "TypeError",
     "evalue": "TypeError: non-boolean (BitVector) used in boolean context",
     "output_type": "error",
     "traceback": [
      "TypeError: non-boolean (BitVector) used in boolean context\n",
      "\n",
      "Stacktrace:\n",
      " [1] top-level scope\n",
      "   @ ~/.julia/dev/MIPMatrixTools/test/roundrobin-experiments.ipynb:12"
     ]
    }
   ],
   "source": [
    "# Now, check what happens when we run 4ti2 over a very small instance\n",
    "very_small_instance = read_instance(INSTANCE_DIRECTORY * \"/bin004.srr\")\n",
    "very_small_ip_model = basic_formulation(very_small_instance)\n",
    "very_small_ip_instance = IPInstance(very_small_ip_model)\n",
    "println(\"Number of variables: \", very_small_ip_instance.n)\n",
    "println(\"Number of constraints: \", very_small_ip_instance.m)\n",
    "\n",
    "using IPGBs.FourTi2\n",
    "\n",
    "# This failed because I don't have an initial solution yet. Implement some heuristic that finds one.\n",
    "solution = linearize_solution(initial_solution(very_small_instance), very_small_instance)\n",
    "@assert very_small_ip_instance.A * solution .== very_small_ip_instance.b\n",
    "gb = groebner(very_small_ip_instance, solution)\n",
    "@show size(gb)\n",
    "@show gb"
   ]
  }
 ],
 "metadata": {
  "kernelspec": {
   "display_name": "Julia 1.9.2",
   "language": "julia",
   "name": "julia-1.9"
  },
  "language_info": {
   "file_extension": ".jl",
   "mimetype": "application/julia",
   "name": "julia",
   "version": "1.9.2"
  },
  "orig_nbformat": 4
 },
 "nbformat": 4,
 "nbformat_minor": 2
}
