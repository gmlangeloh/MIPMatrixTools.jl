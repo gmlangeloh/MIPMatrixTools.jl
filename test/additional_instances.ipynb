{
 "cells": [
  {
   "cell_type": "code",
   "execution_count": 9,
   "metadata": {},
   "outputs": [
    {
     "data": {
      "text/plain": [
       "generate_set_packing (generic function with 1 method)"
      ]
     },
     "metadata": {},
     "output_type": "display_data"
    }
   ],
   "source": [
    "using JuMP\n",
    "\n",
    "#Linear assignment problems\n",
    "function generate_lap(n :: Int)\n",
    "    obj = rand(1:n, n, n)\n",
    "    model = Model()\n",
    "    @variable(model, x[1:n, 1:n], Bin)\n",
    "    @objective(model, Min, sum(obj[i, j] * x[i,j] for i in 1:n, j in 1:n))\n",
    "    for j in 1:n\n",
    "        @constraint(model, sum(x[i,j] for i in 1:n) == 1)\n",
    "    end\n",
    "    for i in 1:n\n",
    "        @constraint(model, sum(x[i,j] for j in 1:n) == 1)\n",
    "    end\n",
    "    return model, x\n",
    "end\n",
    "\n",
    "function repeated_subsets(subsets :: Vector{Set{Int}})\n",
    "    return any(subsets[i] == subsets[j] for i in 1:length(subsets), j in 1:length(subsets) if i != j) \n",
    "end\n",
    "\n",
    "function is_feasible_set_cover(subsets :: Vector{Set{Int}}, n :: Int)\n",
    "    return foldl(union, subsets) == Set(1:n)\n",
    "end\n",
    "\n",
    "function generate_subsets(n :: Int, m :: Int, p :: Float64)\n",
    "    subsets = Vector{Set{Int}}()\n",
    "    for i in 1:m\n",
    "        subset = Set{Int}()\n",
    "        for j in 1:n\n",
    "            if rand() < p\n",
    "                push!(subset, j)\n",
    "            end\n",
    "        end\n",
    "        push!(subsets, subset)\n",
    "    end\n",
    "    return subsets\n",
    "end\n",
    "\n",
    "#Set covering problems\n",
    "#Given n elements (say, the numbers 1:n) and m subsets of these elements, find \n",
    "#a minimum number of subsets such that every element is contained in at least \n",
    "#one of the chosen subsets.\n",
    "#p is the probability any given element is in a subset.\n",
    "function generate_set_cover(n :: Int, m :: Int, p :: Float64)\n",
    "    subsets = generate_subsets(n, m, p)\n",
    "    model = Model()\n",
    "    @variable(model, x[1:m], Bin)\n",
    "    @objective(model, Min, sum(x[i] for i in 1:m))\n",
    "    for i in 1:n\n",
    "        @constraint(model, sum(x[j] for j in 1:m if i in subsets[j]) >= 1)\n",
    "    end\n",
    "    return model, x\n",
    "end\n",
    "\n",
    "#Set packing problems\n",
    "#Given n elements (numbers 1:n) and m subsets of these elements, find a maximum\n",
    "#number of subsets such that no element is contained in more than one of them.\n",
    "#p is the probability any given element is in a subset.\n",
    "function generate_set_packing(n :: Int, m :: Int, p :: Float64)\n",
    "    subsets = generate_subsets(n, m, p)\n",
    "    model = Model()\n",
    "    @variable(model, x[1:m], Bin)\n",
    "    @objective(model, Max, sum(x[i] for i in 1:m))\n",
    "    for i in 1:n\n",
    "        @constraint(model, sum(x[j] for j in 1:m if i in subsets[j]) <= 1)\n",
    "    end\n",
    "    return model\n",
    "end"
   ]
  },
  {
   "cell_type": "code",
   "execution_count": 12,
   "metadata": {},
   "outputs": [
    {
     "name": "stdout",
     "output_type": "stream",
     "text": [
      "lap = min [2.0 1.0 1.0 5.0 5.0 3.0 4.0 3.0 3.0 2.0 5.0 4.0 2.0 1.0 1.0 4.0 5.0 3.0 1.0 4.0 1.0 1.0 3.0 1.0 4.0] \n",
      "[1, 1, 1, 1, 1, 0, 0, 0, 0, 0, 0, 0, 0, 0, 0, 0, 0, 0, 0, 0, 0, 0, 0, 0, 0] = 1 \n",
      "[0, 0, 0, 0, 0, 1, 1, 1, 1, 1, 0, 0, 0, 0, 0, 0, 0, 0, 0, 0, 0, 0, 0, 0, 0] = 1 \n",
      "[0, 0, 0, 0, 0, 0, 0, 0, 0, 0, 1, 1, 1, 1, 1, 0, 0, 0, 0, 0, 0, 0, 0, 0, 0] = 1 \n",
      "[0, 0, 0, 0, 0, 0, 0, 0, 0, 0, 0, 0, 0, 0, 0, 1, 1, 1, 1, 1, 0, 0, 0, 0, 0] = 1 \n",
      "[0, 0, 0, 0, 0, 0, 0, 0, 0, 0, 0, 0, 0, 0, 0, 0, 0, 0, 0, 0, 1, 1, 1, 1, 1] = 1 \n",
      "[1, 0, 0, 0, 0, 1, 0, 0, 0, 0, 1, 0, 0, 0, 0, 1, 0, 0, 0, 0, 1, 0, 0, 0, 0] = 1 \n",
      "[0, 1, 0, 0, 0, 0, 1, 0, 0, 0, 0, 1, 0, 0, 0, 0, 1, 0, 0, 0, 0, 1, 0, 0, 0] = 1 \n",
      "[0, 0, 1, 0, 0, 0, 0, 1, 0, 0, 0, 0, 1, 0, 0, 0, 0, 1, 0, 0, 0, 0, 1, 0, 0] = 1 \n",
      "[0, 0, 0, 1, 0, 0, 0, 0, 1, 0, 0, 0, 0, 1, 0, 0, 0, 0, 1, 0, 0, 0, 0, 1, 0] = 1 \n",
      "[0, 0, 0, 0, 1, 0, 0, 0, 0, 1, 0, 0, 0, 0, 1, 0, 0, 0, 0, 1, 0, 0, 0, 0, 1] = 1 \n",
      "\n"
     ]
    },
    {
     "data": {
      "text/plain": [
       "min [2.0 1.0 1.0 5.0 5.0 3.0 4.0 3.0 3.0 2.0 5.0 4.0 2.0 1.0 1.0 4.0 5.0 3.0 1.0 4.0 1.0 1.0 3.0 1.0 4.0] \n",
       "[1, 1, 1, 1, 1, 0, 0, 0, 0, 0, 0, 0, 0, 0, 0, 0, 0, 0, 0, 0, 0, 0, 0, 0, 0] = 1 \n",
       "[0, 0, 0, 0, 0, 1, 1, 1, 1, 1, 0, 0, 0, 0, 0, 0, 0, 0, 0, 0, 0, 0, 0, 0, 0] = 1 \n",
       "[0, 0, 0, 0, 0, 0, 0, 0, 0, 0, 1, 1, 1, 1, 1, 0, 0, 0, 0, 0, 0, 0, 0, 0, 0] = 1 \n",
       "[0, 0, 0, 0, 0, 0, 0, 0, 0, 0, 0, 0, 0, 0, 0, 1, 1, 1, 1, 1, 0, 0, 0, 0, 0] = 1 \n",
       "[0, 0, 0, 0, 0, 0, 0, 0, 0, 0, 0, 0, 0, 0, 0, 0, 0, 0, 0, 0, 1, 1, 1, 1, 1] = 1 \n",
       "[1, 0, 0, 0, 0, 1, 0, 0, 0, 0, 1, 0, 0, 0, 0, 1, 0, 0, 0, 0, 1, 0, 0, 0, 0] = 1 \n",
       "[0, 1, 0, 0, 0, 0, 1, 0, 0, 0, 0, 1, 0, 0, 0, 0, 1, 0, 0, 0, 0, 1, 0, 0, 0] = 1 \n",
       "[0, 0, 1, 0, 0, 0, 0, 1, 0, 0, 0, 0, 1, 0, 0, 0, 0, 1, 0, 0, 0, 0, 1, 0, 0] = 1 \n",
       "[0, 0, 0, 1, 0, 0, 0, 0, 1, 0, 0, 0, 0, 1, 0, 0, 0, 0, 1, 0, 0, 0, 0, 1, 0] = 1 \n",
       "[0, 0, 0, 0, 1, 0, 0, 0, 0, 1, 0, 0, 0, 0, 1, 0, 0, 0, 0, 1, 0, 0, 0, 0, 1] = 1 \n"
      ]
     },
     "metadata": {},
     "output_type": "display_data"
    }
   ],
   "source": [
    "using MIPMatrixTools.IPInstances\n",
    "using IPGBs\n",
    "\n",
    "lap_model, _ = generate_lap(5)\n",
    "lap = IPInstance(lap_model, infer_binary=false)\n",
    "gb = groebner_basis(lap)\n",
    "@show length(gb) gb"
   ]
  }
 ],
 "metadata": {
  "kernelspec": {
   "display_name": "Julia 1.9.2",
   "language": "julia",
   "name": "julia-1.9"
  },
  "language_info": {
   "file_extension": ".jl",
   "mimetype": "application/julia",
   "name": "julia",
   "version": "1.9.2"
  },
  "orig_nbformat": 4
 },
 "nbformat": 4,
 "nbformat_minor": 2
}
